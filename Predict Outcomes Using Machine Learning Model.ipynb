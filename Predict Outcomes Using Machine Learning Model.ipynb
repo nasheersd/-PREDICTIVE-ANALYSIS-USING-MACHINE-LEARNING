{
 "cells": [
  {
   "cell_type": "markdown",
   "id": "a779c0a5",
   "metadata": {},
   "source": [
    "# Car Purchase Amount — Regression Model Comparison\n",
    "\n",
    "This notebook loads **Car_Purchasing_Data.csv**, cleans it, and compares three regression models: **Linear Regression**, **Random Forest**, and **XGBoost**. It evaluates using **RMSE** and **R²**, shows a prediction vs actual plot for the best model, and saves the best model to disk."
   ]
  },
  {
   "cell_type": "code",
   "execution_count": 1,
   "id": "448b5799",
   "metadata": {},
   "outputs": [],
   "source": [
    "import pandas as pd\n",
    "import numpy as np\n",
    "from sklearn.model_selection import train_test_split\n",
    "from sklearn.pipeline import Pipeline\n",
    "from sklearn.compose import ColumnTransformer\n",
    "from sklearn.preprocessing import StandardScaler, OneHotEncoder\n",
    "from sklearn.impute import SimpleImputer\n",
    "from sklearn.linear_model import LinearRegression\n",
    "from sklearn.ensemble import RandomForestRegressor\n",
    "from sklearn.metrics import mean_squared_error, r2_score\n",
    "import joblib\n",
    "import matplotlib.pyplot as plt\n",
    "import warnings\n",
    "warnings.filterwarnings('ignore')\n",
    "\n",
    "# Try importing XGBoost; if not available, install instruction printed\n",
    "try:\n",
    "    from xgboost import XGBRegressor\n",
    "except Exception as e:\n",
    "    XGBRegressor = None\n",
    "    print('XGBoost not available in this environment. If you want XGBoost, run `pip install xgboost`.')\n"
   ]
  },
  {
   "cell_type": "code",
   "execution_count": 2,
   "id": "b9455a26",
   "metadata": {},
   "outputs": [
    {
     "name": "stdout",
     "output_type": "stream",
     "text": [
      "Shape: (500, 9)\n"
     ]
    },
    {
     "data": {
      "text/html": [
       "<div>\n",
       "<style scoped>\n",
       "    .dataframe tbody tr th:only-of-type {\n",
       "        vertical-align: middle;\n",
       "    }\n",
       "\n",
       "    .dataframe tbody tr th {\n",
       "        vertical-align: top;\n",
       "    }\n",
       "\n",
       "    .dataframe thead th {\n",
       "        text-align: right;\n",
       "    }\n",
       "</style>\n",
       "<table border=\"1\" class=\"dataframe\">\n",
       "  <thead>\n",
       "    <tr style=\"text-align: right;\">\n",
       "      <th></th>\n",
       "      <th>Customer Name</th>\n",
       "      <th>Customer e-mail</th>\n",
       "      <th>Country</th>\n",
       "      <th>Gender</th>\n",
       "      <th>Age</th>\n",
       "      <th>Annual Salary</th>\n",
       "      <th>Credit Card Debt</th>\n",
       "      <th>Net Worth</th>\n",
       "      <th>Car Purchase Amount</th>\n",
       "    </tr>\n",
       "  </thead>\n",
       "  <tbody>\n",
       "    <tr>\n",
       "      <th>0</th>\n",
       "      <td>Martina Avila</td>\n",
       "      <td>cubilia.Curae.Phasellus@quisaccumsanconvallis.edu</td>\n",
       "      <td>USA</td>\n",
       "      <td>0</td>\n",
       "      <td>42</td>\n",
       "      <td>62812.09301</td>\n",
       "      <td>11609.380910</td>\n",
       "      <td>238961.2505</td>\n",
       "      <td>35321.45877</td>\n",
       "    </tr>\n",
       "    <tr>\n",
       "      <th>1</th>\n",
       "      <td>Harlan Barnes</td>\n",
       "      <td>eu.dolor@diam.co.uk</td>\n",
       "      <td>USA</td>\n",
       "      <td>0</td>\n",
       "      <td>41</td>\n",
       "      <td>66646.89292</td>\n",
       "      <td>9572.957136</td>\n",
       "      <td>530973.9078</td>\n",
       "      <td>45115.52566</td>\n",
       "    </tr>\n",
       "    <tr>\n",
       "      <th>2</th>\n",
       "      <td>Naomi Rodriquez</td>\n",
       "      <td>vulputate.mauris.sagittis@ametconsectetueradip...</td>\n",
       "      <td>USA</td>\n",
       "      <td>1</td>\n",
       "      <td>43</td>\n",
       "      <td>53798.55112</td>\n",
       "      <td>11160.355060</td>\n",
       "      <td>638467.1773</td>\n",
       "      <td>42925.70921</td>\n",
       "    </tr>\n",
       "    <tr>\n",
       "      <th>3</th>\n",
       "      <td>Jade Cunningham</td>\n",
       "      <td>malesuada@dignissim.com</td>\n",
       "      <td>USA</td>\n",
       "      <td>1</td>\n",
       "      <td>58</td>\n",
       "      <td>79370.03798</td>\n",
       "      <td>14426.164850</td>\n",
       "      <td>548599.0524</td>\n",
       "      <td>67422.36313</td>\n",
       "    </tr>\n",
       "    <tr>\n",
       "      <th>4</th>\n",
       "      <td>Cedric Leach</td>\n",
       "      <td>felis.ullamcorper.viverra@egetmollislectus.net</td>\n",
       "      <td>USA</td>\n",
       "      <td>1</td>\n",
       "      <td>57</td>\n",
       "      <td>59729.15130</td>\n",
       "      <td>5358.712177</td>\n",
       "      <td>560304.0671</td>\n",
       "      <td>55915.46248</td>\n",
       "    </tr>\n",
       "  </tbody>\n",
       "</table>\n",
       "</div>"
      ],
      "text/plain": [
       "     Customer Name                                    Customer e-mail Country  \\\n",
       "0    Martina Avila  cubilia.Curae.Phasellus@quisaccumsanconvallis.edu     USA   \n",
       "1    Harlan Barnes                                eu.dolor@diam.co.uk     USA   \n",
       "2  Naomi Rodriquez  vulputate.mauris.sagittis@ametconsectetueradip...     USA   \n",
       "3  Jade Cunningham                            malesuada@dignissim.com     USA   \n",
       "4     Cedric Leach     felis.ullamcorper.viverra@egetmollislectus.net     USA   \n",
       "\n",
       "   Gender  Age  Annual Salary  Credit Card Debt    Net Worth  \\\n",
       "0       0   42    62812.09301      11609.380910  238961.2505   \n",
       "1       0   41    66646.89292       9572.957136  530973.9078   \n",
       "2       1   43    53798.55112      11160.355060  638467.1773   \n",
       "3       1   58    79370.03798      14426.164850  548599.0524   \n",
       "4       1   57    59729.15130       5358.712177  560304.0671   \n",
       "\n",
       "   Car Purchase Amount  \n",
       "0          35321.45877  \n",
       "1          45115.52566  \n",
       "2          42925.70921  \n",
       "3          67422.36313  \n",
       "4          55915.46248  "
      ]
     },
     "execution_count": 2,
     "metadata": {},
     "output_type": "execute_result"
    }
   ],
   "source": [
    "# Load dataset (ensure Car_Purchasing_Data.csv is uploaded to the runtime)\n",
    "df = pd.read_csv('Car_Purchasing_Data.csv')\n",
    "print('Shape:', df.shape)\n",
    "df.head()\n"
   ]
  },
  {
   "cell_type": "code",
   "execution_count": 3,
   "id": "b3bca51a",
   "metadata": {},
   "outputs": [
    {
     "name": "stdout",
     "output_type": "stream",
     "text": [
      "Features: ['Country', 'Gender', 'Age', 'Annual Salary', 'Credit Card Debt', 'Net Worth']\n"
     ]
    }
   ],
   "source": [
    "# Basic cleaning and target selection\n",
    "df = df.copy()\n",
    "# Drop obvious non-predictive columns if present\n",
    "for col in ['Customer Name', 'Customer e-mail']:\n",
    "    if col in df.columns:\n",
    "        df.drop(columns=[col], inplace=True)\n",
    "\n",
    "TARGET = 'Car Purchase Amount'\n",
    "if TARGET not in df.columns:\n",
    "    raise ValueError(f\"Target column '{TARGET}' not found in the dataset. Available columns: {list(df.columns)}\")\n",
    "\n",
    "X = df.drop(columns=[TARGET])\n",
    "y = df[TARGET]\n",
    "\n",
    "print('Features:', X.columns.tolist())\n"
   ]
  },
  {
   "cell_type": "code",
   "execution_count": 4,
   "id": "9c30e527",
   "metadata": {},
   "outputs": [
    {
     "name": "stdout",
     "output_type": "stream",
     "text": [
      "Train shape: (400, 6) Test shape: (100, 6)\n"
     ]
    }
   ],
   "source": [
    "# Train/test split\n",
    "X_train, X_test, y_train, y_test = train_test_split(X, y, test_size=0.2, random_state=42)\n",
    "print('Train shape:', X_train.shape, 'Test shape:', X_test.shape)\n"
   ]
  },
  {
   "cell_type": "code",
   "execution_count": 6,
   "id": "b0097c6c",
   "metadata": {},
   "outputs": [
    {
     "name": "stdout",
     "output_type": "stream",
     "text": [
      "Numeric columns: ['Gender', 'Age', 'Annual Salary', 'Credit Card Debt', 'Net Worth']\n",
      "Categorical columns: ['Country']\n"
     ]
    }
   ],
   "source": [
    "# Prepare preprocessing pipelines\n",
    "num_cols = X.select_dtypes(include=['int64','float64']).columns.tolist()\n",
    "cat_cols = X.select_dtypes(include=['object','category','bool']).columns.tolist()\n",
    "\n",
    "num_pipeline = Pipeline([\n",
    "    ('imputer', SimpleImputer(strategy='median')),\n",
    "    ('scaler', StandardScaler())\n",
    "])\n",
    "cat_pipeline = Pipeline([\n",
    "    ('imputer', SimpleImputer(strategy='most_frequent')),\n",
    "    ('ohe', OneHotEncoder(handle_unknown='ignore', sparse_output=False))\n",
    "])\n",
    "preprocessor = ColumnTransformer([\n",
    "    ('num', num_pipeline, num_cols),\n",
    "    ('cat', cat_pipeline, cat_cols)\n",
    "])\n",
    "print('Numeric columns:', num_cols)\n",
    "print('Categorical columns:', cat_cols)\n"
   ]
  },
  {
   "cell_type": "code",
   "execution_count": 21,
   "id": "0f2d1f73",
   "metadata": {},
   "outputs": [
    {
     "name": "stdout",
     "output_type": "stream",
     "text": [
      "\n",
      "Model: Linear Regression\n",
      "  RMSE: 249.5074\n",
      "  R2: 0.9994\n",
      "\n",
      "Model: Random Forest\n",
      "  RMSE: 2281.0434\n",
      "  R2: 0.9518\n",
      "\n",
      "Model: XGBoost\n",
      "  RMSE: 2153.3531\n",
      "  R2: 0.9571\n"
     ]
    }
   ],
   "source": [
    "# Define models to compare\n",
    "models = {\n",
    "    'Linear Regression': LinearRegression(),\n",
    "    'Random Forest': RandomForestRegressor(n_estimators=100, random_state=42)\n",
    "}\n",
    "if XGBRegressor is not None:\n",
    "    models['XGBoost'] = XGBRegressor(n_estimators=200, learning_rate=0.1, random_state=42)\n",
    "\n",
    "results = {}\n",
    "\n",
    "for name, model in models.items():\n",
    "    pipe = Pipeline([('pre', preprocessor), ('model', model)])\n",
    "    pipe.fit(X_train, y_train)\n",
    "    preds = pipe.predict(X_test)\n",
    "    rmse = np.sqrt(mean_squared_error(y_test, preds))\n",
    "    r2 = r2_score(y_test, preds)\n",
    "    results[name] = {'RMSE': float(rmse), 'R2': float(r2)}\n",
    "    print(f\"\\nModel: {name}\\n  RMSE: {rmse:.4f}\\n  R2: {r2:.4f}\")\n"
   ]
  },
  {
   "cell_type": "code",
   "execution_count": 22,
   "id": "d495baa3",
   "metadata": {},
   "outputs": [
    {
     "data": {
      "text/html": [
       "<div>\n",
       "<style scoped>\n",
       "    .dataframe tbody tr th:only-of-type {\n",
       "        vertical-align: middle;\n",
       "    }\n",
       "\n",
       "    .dataframe tbody tr th {\n",
       "        vertical-align: top;\n",
       "    }\n",
       "\n",
       "    .dataframe thead th {\n",
       "        text-align: right;\n",
       "    }\n",
       "</style>\n",
       "<table border=\"1\" class=\"dataframe\">\n",
       "  <thead>\n",
       "    <tr style=\"text-align: right;\">\n",
       "      <th></th>\n",
       "      <th>RMSE</th>\n",
       "      <th>R2</th>\n",
       "    </tr>\n",
       "  </thead>\n",
       "  <tbody>\n",
       "    <tr>\n",
       "      <th>Linear Regression</th>\n",
       "      <td>249.507447</td>\n",
       "      <td>0.999423</td>\n",
       "    </tr>\n",
       "    <tr>\n",
       "      <th>XGBoost</th>\n",
       "      <td>2153.353061</td>\n",
       "      <td>0.957055</td>\n",
       "    </tr>\n",
       "    <tr>\n",
       "      <th>Random Forest</th>\n",
       "      <td>2281.043399</td>\n",
       "      <td>0.951811</td>\n",
       "    </tr>\n",
       "  </tbody>\n",
       "</table>\n",
       "</div>"
      ],
      "text/plain": [
       "                          RMSE        R2\n",
       "Linear Regression   249.507447  0.999423\n",
       "XGBoost            2153.353061  0.957055\n",
       "Random Forest      2281.043399  0.951811"
      ]
     },
     "execution_count": 22,
     "metadata": {},
     "output_type": "execute_result"
    }
   ],
   "source": [
    "# Summary table\n",
    "results_df = pd.DataFrame(results).T.sort_values(by='RMSE')\n",
    "results_df\n"
   ]
  },
  {
   "cell_type": "code",
   "execution_count": 23,
   "id": "2ba36545",
   "metadata": {},
   "outputs": [
    {
     "name": "stdout",
     "output_type": "stream",
     "text": [
      "Best model: Linear Regression\n",
      "Saved: best_model_Linear_Regression.joblib\n"
     ]
    }
   ],
   "source": [
    "# Pick best model (lowest RMSE), retrain on full data, and save\n",
    "best_name = results_df.index[0]\n",
    "print('Best model:', best_name)\n",
    "best_model = models[best_name]\n",
    "final_pipeline = Pipeline([('pre', preprocessor), ('model', best_model)])\n",
    "final_pipeline.fit(X, y)\n",
    "out_name = f'best_model_{best_name.replace(\" \",\"_\")}.joblib'\n",
    "joblib.dump(final_pipeline, out_name)\n",
    "print('Saved:', out_name)\n"
   ]
  },
  {
   "cell_type": "code",
   "execution_count": 24,
   "id": "93ebd47a",
   "metadata": {},
   "outputs": [
    {
     "data": {
      "image/png": "[encoded data removed]",
      "text/plain": [
       "<Figure size 800x600 with 1 Axes>"
      ]
     },
     "metadata": {},
     "output_type": "display_data"
    }
   ],
   "source": [
    "# Plot predictions vs actual for the best model on test set\n",
    "best_pipe = Pipeline([('pre', preprocessor), ('model', models[best_name])])\n",
    "best_pipe.fit(X_train, y_train)\n",
    "preds_test = best_pipe.predict(X_test)\n",
    "\n",
    "plt.figure(figsize=(8,6))\n",
    "plt.scatter(y_test, preds_test, alpha=0.7)\n",
    "plt.plot([y_test.min(), y_test.max()], [y_test.min(), y_test.max()], 'r--')\n",
    "plt.xlabel('Actual')\n",
    "plt.ylabel('Predicted')\n",
    "plt.title(f'Actual vs Predicted - {best_name}')\n",
    "plt.grid(True)\n",
    "plt.show()\n"
   ]
  }
 ],
 "metadata": {
  "kernelspec": {
   "display_name": "Python 3 (ipykernel)",
   "language": "python",
   "name": "python3"
  },
  "language_info": {
   "codemirror_mode": {
    "name": "ipython",
    "version": 3
   },
   "file_extension": ".py",
   "mimetype": "text/x-python",
   "name": "python",
   "nbconvert_exporter": "python",
   "pygments_lexer": "ipython3",
   "version": "3.12.3"
  }
 },
 "nbformat": 4,
 "nbformat_minor": 5
}
